{
 "cells": [
  {
   "cell_type": "code",
   "execution_count": 1,
   "metadata": {},
   "outputs": [],
   "source": [
    "import numpy as np"
   ]
  },
  {
   "cell_type": "code",
   "execution_count": 2,
   "metadata": {},
   "outputs": [],
   "source": [
    "test_operators = {'+' : lambda x,y: x+y,\n",
    "             '-' : lambda x,y: x-y,\n",
    "             '*' : lambda x,y: x*y,\n",
    "             '/' : lambda x,y: x/y,\n",
    "             '>' : lambda x,y: x if x>y else y,\n",
    "             '<' : lambda x,y: x if x<y else y}"
   ]
  },
  {
   "cell_type": "code",
   "execution_count": 3,
   "metadata": {},
   "outputs": [],
   "source": [
    "test_params = {'x' : 1,\n",
    "               'y' : 2,\n",
    "               'z' : 3}"
   ]
  },
  {
   "cell_type": "code",
   "execution_count": 4,
   "metadata": {},
   "outputs": [],
   "source": [
    "class TreeNode:\n",
    "    def __init__(self, operator):\n",
    "        self.x = None\n",
    "        self.y = None\n",
    "        self.name=operator\n",
    "        self.operand = test_operators[operator]    "
   ]
  },
  {
   "cell_type": "code",
   "execution_count": 5,
   "metadata": {},
   "outputs": [],
   "source": [
    "def evaluate(node, params):\n",
    "    x = evaluate(node.x,params) if isinstance(node.x, TreeNode) else params[node.x]\n",
    "    y = evaluate(node.y,params) if isinstance(node.y, TreeNode) else params[node.y]\n",
    "    return node.operand(x,y)"
   ]
  },
  {
   "cell_type": "code",
   "execution_count": 9,
   "metadata": {},
   "outputs": [],
   "source": [
    "def show(node, space=0, tab_size=6):\n",
    "    space += tab_size\n",
    "    s = str(node.name)\n",
    "    if isinstance(node.x, TreeNode): show(node.x, space, tab_size) \n",
    "    else: print(\" \"*(space), node.x)\n",
    "    print(\" \"*(space-tab_size), s)\n",
    "    if isinstance(node.y, TreeNode): show(node.y, space, tab_size)\n",
    "    else: print(\" \"*(space), node.y)"
   ]
  },
  {
   "cell_type": "code",
   "execution_count": 10,
   "metadata": {},
   "outputs": [],
   "source": [
    "def generateTree(n_nodes, operators, params):\n",
    "    def grow1(node):\n",
    "        if np.random.randint(2):\n",
    "            if not isinstance(node.x, TreeNode): node.x = TreeNode(np.random.choice([*operators]))\n",
    "            else: grow1(node.x)\n",
    "        else:\n",
    "            if not isinstance(node.y, TreeNode) is None: node.y = TreeNode(np.random.choice([*operators]))\n",
    "            else: grow1(node.y)  \n",
    "                    \n",
    "    def parameters(node, params):\n",
    "        if not isinstance(node.x, TreeNode): node.x = np.random.choice([*params])\n",
    "        else: parameters(node.x, params)\n",
    "        if not isinstance(node.y, TreeNode): node.y = np.random.choice([*params])\n",
    "        else: parameters(node.y, params)\n",
    "    root = TreeNode(np.random.choice([*operators]))\n",
    "    for _ in range(n_nodes): grow1(root)\n",
    "    parameters(root, params)\n",
    "    \n",
    "    return root      "
   ]
  },
  {
   "cell_type": "code",
   "execution_count": 30,
   "metadata": {},
   "outputs": [
    {
     "name": "stdout",
     "output_type": "stream",
     "text": [
      "{'x': 1, 'y': 2, 'z': 3}\n",
      "                   y\n",
      "             *\n",
      "                   y\n",
      "       <\n",
      "                   x\n",
      "             -\n",
      "                   z\n",
      " *\n",
      "             x\n",
      "       *\n",
      "             x\n",
      "result= -2\n"
     ]
    }
   ],
   "source": [
    "print(test_params)\n",
    "root = generateTree(20, test_operators, test_params)\n",
    "show(root)\n",
    "print(\"result=\",evaluate(root, test_params))"
   ]
  },
  {
   "cell_type": "code",
   "execution_count": null,
   "metadata": {},
   "outputs": [],
   "source": [
    " def crossover(expr1, expr2):\n",
    "        "
   ]
  },
  {
   "cell_type": "code",
   "execution_count": null,
   "metadata": {},
   "outputs": [],
   "source": []
  }
 ],
 "metadata": {
  "kernelspec": {
   "display_name": "Python 3",
   "language": "python",
   "name": "python3"
  },
  "language_info": {
   "codemirror_mode": {
    "name": "ipython",
    "version": 3
   },
   "file_extension": ".py",
   "mimetype": "text/x-python",
   "name": "python",
   "nbconvert_exporter": "python",
   "pygments_lexer": "ipython3",
   "version": "3.9.2"
  }
 },
 "nbformat": 4,
 "nbformat_minor": 4
}
