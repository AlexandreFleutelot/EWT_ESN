{
  "nbformat": 4,
  "nbformat_minor": 0,
  "metadata": {
    "colab": {
      "name": "pyspark-test01.ipynb",
      "provenance": [],
      "collapsed_sections": [],
      "mount_file_id": "1_gA62j72B2lADQtwMStJJVUViVIDA8lz",
      "authorship_tag": "ABX9TyNtSPSaxgwZ8nxcyMWy5WTk",
      "include_colab_link": true
    },
    "kernelspec": {
      "name": "python3",
      "display_name": "Python 3"
    },
    "language_info": {
      "name": "python"
    }
  },
  "cells": [
    {
      "cell_type": "markdown",
      "metadata": {
        "id": "view-in-github",
        "colab_type": "text"
      },
      "source": [
        "<a href=\"https://colab.research.google.com/github/AlexandreFleutelot/EWT_ESN/blob/main/pyspark_test01.ipynb\" target=\"_parent\"><img src=\"https://colab.research.google.com/assets/colab-badge.svg\" alt=\"Open In Colab\"/></a>"
      ]
    },
    {
      "cell_type": "code",
      "metadata": {
        "colab": {
          "base_uri": "https://localhost:8080/"
        },
        "id": "3pf7LMrDNUVr",
        "outputId": "beefbd06-4270-4d79-cd97-7721a2c66f17"
      },
      "source": [
        "!pip install pyspark"
      ],
      "execution_count": null,
      "outputs": [
        {
          "output_type": "stream",
          "name": "stdout",
          "text": [
            "Requirement already satisfied: pyspark in /usr/local/lib/python3.7/dist-packages (3.2.0)\n",
            "Requirement already satisfied: py4j==0.10.9.2 in /usr/local/lib/python3.7/dist-packages (from pyspark) (0.10.9.2)\n"
          ]
        }
      ]
    },
    {
      "cell_type": "code",
      "metadata": {
        "id": "xq0DW44uNWy_"
      },
      "source": [
        "from pyspark.sql import SparkSession\n",
        "\n",
        "spark = SparkSession.builder\\\n",
        "        .master(\"local\")\\\n",
        "        .appName(\"Colab\")\\\n",
        "        .config('spark.ui.port', '4050')\\\n",
        "        .getOrCreate()"
      ],
      "execution_count": null,
      "outputs": []
    },
    {
      "cell_type": "code",
      "metadata": {
        "colab": {
          "base_uri": "https://localhost:8080/",
          "height": 216
        },
        "id": "5eqxBzYaN1so",
        "outputId": "9419587e-5584-4058-f512-c37992fc27ed"
      },
      "source": [
        "spark"
      ],
      "execution_count": null,
      "outputs": [
        {
          "output_type": "execute_result",
          "data": {
            "text/html": [
              "\n",
              "            <div>\n",
              "                <p><b>SparkSession - in-memory</b></p>\n",
              "                \n",
              "        <div>\n",
              "            <p><b>SparkContext</b></p>\n",
              "\n",
              "            <p><a href=\"http://3fda2289293a:4050\">Spark UI</a></p>\n",
              "\n",
              "            <dl>\n",
              "              <dt>Version</dt>\n",
              "                <dd><code>v3.2.0</code></dd>\n",
              "              <dt>Master</dt>\n",
              "                <dd><code>local</code></dd>\n",
              "              <dt>AppName</dt>\n",
              "                <dd><code>Colab</code></dd>\n",
              "            </dl>\n",
              "        </div>\n",
              "        \n",
              "            </div>\n",
              "        "
            ],
            "text/plain": [
              "<pyspark.sql.session.SparkSession at 0x7fa914adf5d0>"
            ]
          },
          "metadata": {},
          "execution_count": 143
        }
      ]
    },
    {
      "cell_type": "code",
      "metadata": {
        "id": "fkuRi8opN2uH"
      },
      "source": [
        "from pyspark import SparkFiles\n",
        "url = 'https://support.staffbase.com/hc/en-us/article_attachments/360009197031/username.csv'\n",
        "\n",
        "spark.sparkContext.addFile(url)\n",
        "df = spark.read.csv(SparkFiles.get(\"username.csv\"), header=True, sep=';',inferSchema=True)"
      ],
      "execution_count": null,
      "outputs": []
    },
    {
      "cell_type": "code",
      "metadata": {
        "colab": {
          "base_uri": "https://localhost:8080/"
        },
        "id": "G1Byx0j_N8Uw",
        "outputId": "523f1b61-a746-4b65-accd-7d4702ab08ce"
      },
      "source": [
        "df.show(10)"
      ],
      "execution_count": null,
      "outputs": [
        {
          "output_type": "stream",
          "name": "stdout",
          "text": [
            "+---------+-----------+----------+---------+\n",
            "| Username| Identifier|First name|Last name|\n",
            "+---------+-----------+----------+---------+\n",
            "| booker12|       9012|    Rachel|   Booker|\n",
            "|   grey07|       2070|     Laura|     Grey|\n",
            "|johnson81|       4081|     Craig|  Johnson|\n",
            "|jenkins46|       9346|      Mary|  Jenkins|\n",
            "|  smith79|       5079|     Jamie|    Smith|\n",
            "+---------+-----------+----------+---------+\n",
            "\n"
          ]
        }
      ]
    },
    {
      "cell_type": "code",
      "metadata": {
        "colab": {
          "base_uri": "https://localhost:8080/"
        },
        "id": "N4pqpgB5O5TX",
        "outputId": "d977106d-e472-4007-9c42-7bf6493f9a8e"
      },
      "source": [
        "type(df)"
      ],
      "execution_count": null,
      "outputs": [
        {
          "output_type": "execute_result",
          "data": {
            "text/plain": [
              "pyspark.sql.dataframe.DataFrame"
            ]
          },
          "metadata": {},
          "execution_count": 146
        }
      ]
    },
    {
      "cell_type": "code",
      "metadata": {
        "colab": {
          "base_uri": "https://localhost:8080/"
        },
        "id": "eeCYW9cqQQnw",
        "outputId": "fc992af2-6839-41e5-ffbd-44c62a49ae4d"
      },
      "source": [
        "df.printSchema()"
      ],
      "execution_count": null,
      "outputs": [
        {
          "output_type": "stream",
          "name": "stdout",
          "text": [
            "root\n",
            " |-- Username: string (nullable = true)\n",
            " |--  Identifier: integer (nullable = true)\n",
            " |-- First name: string (nullable = true)\n",
            " |-- Last name: string (nullable = true)\n",
            "\n"
          ]
        }
      ]
    },
    {
      "cell_type": "code",
      "metadata": {
        "id": "X2ZHiQ3gP7TN"
      },
      "source": [
        "df = df.withColumnRenamed(\" Identifier\",\"Identifier\")"
      ],
      "execution_count": null,
      "outputs": []
    },
    {
      "cell_type": "code",
      "metadata": {
        "colab": {
          "base_uri": "https://localhost:8080/"
        },
        "id": "XP_mnbzlPV5u",
        "outputId": "a23e4885-1222-4b26-94e0-2a003e3b910b"
      },
      "source": [
        "df.select([\"Username\",\"Identifier\"]).show(5)"
      ],
      "execution_count": null,
      "outputs": [
        {
          "output_type": "stream",
          "name": "stdout",
          "text": [
            "+---------+----------+\n",
            "| Username|Identifier|\n",
            "+---------+----------+\n",
            "| booker12|      9012|\n",
            "|   grey07|      2070|\n",
            "|johnson81|      4081|\n",
            "|jenkins46|      9346|\n",
            "|  smith79|      5079|\n",
            "+---------+----------+\n",
            "\n"
          ]
        }
      ]
    },
    {
      "cell_type": "code",
      "metadata": {
        "colab": {
          "base_uri": "https://localhost:8080/"
        },
        "id": "tydk5wOGQjq4",
        "outputId": "97d42ee6-663f-4d21-d370-3385359eb0d8"
      },
      "source": [
        "df.filter(df.Identifier>9000).show()"
      ],
      "execution_count": null,
      "outputs": [
        {
          "output_type": "stream",
          "name": "stdout",
          "text": [
            "+---------+----------+----------+---------+\n",
            "| Username|Identifier|First name|Last name|\n",
            "+---------+----------+----------+---------+\n",
            "| booker12|      9012|    Rachel|   Booker|\n",
            "|jenkins46|      9346|      Mary|  Jenkins|\n",
            "+---------+----------+----------+---------+\n",
            "\n"
          ]
        }
      ]
    },
    {
      "cell_type": "code",
      "metadata": {
        "id": "7CRQDAShQ9eG",
        "colab": {
          "base_uri": "https://localhost:8080/"
        },
        "outputId": "603fc241-7b6b-4a04-8d7d-c4646d5fff8b"
      },
      "source": [
        "\n",
        "\n",
        "test = [(\"bob\", [\"red\", \"blue\"]),\n",
        "    (\"maria\", [\"green\", \"red\"]),\n",
        "    (\"sue\", [\"black\"])]\n",
        "df2 = spark.createDataFrame(test, schema=[\"name\",\"colors\"])\n",
        "df2.show()"
      ],
      "execution_count": null,
      "outputs": [
        {
          "output_type": "stream",
          "name": "stdout",
          "text": [
            "+-----+------------+\n",
            "| name|      colors|\n",
            "+-----+------------+\n",
            "|  bob| [red, blue]|\n",
            "|maria|[green, red]|\n",
            "|  sue|     [black]|\n",
            "+-----+------------+\n",
            "\n"
          ]
        }
      ]
    },
    {
      "cell_type": "code",
      "metadata": {
        "colab": {
          "base_uri": "https://localhost:8080/"
        },
        "id": "-Ki1bM54mwkM",
        "outputId": "b7188fdb-af1b-4864-ceea-07c8e8809954"
      },
      "source": [
        "import pyspark.sql.functions as F\n",
        "from pyspark.sql.types import *\n",
        "import random\n",
        "\n",
        "c = [\"red\", \"blue\", \"green\", \"black\"]\n",
        "\n",
        "def rndColor():\n",
        "  return random.choice(c)\n",
        "\n",
        "udf_func = F.udf(rndColor,StringType())\n",
        "df3 = df.withColumn(\"color\",udf_func())\n",
        "df3.show()"
      ],
      "execution_count": null,
      "outputs": [
        {
          "output_type": "stream",
          "name": "stdout",
          "text": [
            "+---------+----------+----------+---------+-----+\n",
            "| Username|Identifier|First name|Last name|color|\n",
            "+---------+----------+----------+---------+-----+\n",
            "| booker12|      9012|    Rachel|   Booker|black|\n",
            "|   grey07|      2070|     Laura|     Grey|black|\n",
            "|johnson81|      4081|     Craig|  Johnson|green|\n",
            "|jenkins46|      9346|      Mary|  Jenkins| blue|\n",
            "|  smith79|      5079|     Jamie|    Smith|  red|\n",
            "+---------+----------+----------+---------+-----+\n",
            "\n"
          ]
        }
      ]
    },
    {
      "cell_type": "code",
      "metadata": {
        "colab": {
          "base_uri": "https://localhost:8080/"
        },
        "id": "Nzjj_diQqDC_",
        "outputId": "6966927b-882d-401d-a954-97ad5d3d6da0"
      },
      "source": [
        "!ls /content/"
      ],
      "execution_count": null,
      "outputs": [
        {
          "output_type": "stream",
          "name": "stdout",
          "text": [
            "dr.csv\tdrive  msgs.csv  sample_data\n"
          ]
        }
      ]
    },
    {
      "cell_type": "code",
      "metadata": {
        "colab": {
          "base_uri": "https://localhost:8080/"
        },
        "id": "LJkAfn4n8Bb7",
        "outputId": "6a1698b1-9ee4-4cc4-cc42-e50331d15e85"
      },
      "source": [
        "df_dr = spark.read.csv(\"/content/dr.csv\", header=True, sep=';',inferSchema=True)\n",
        "df_msgs = spark.read.csv(\"/content/msgs.csv\", header=True, sep='\\t',inferSchema=True)\n",
        "\n",
        "df_dr.show()\n",
        "df_msgs.show()"
      ],
      "execution_count": null,
      "outputs": [
        {
          "output_type": "stream",
          "name": "stdout",
          "text": [
            "+-------+-----------+\n",
            "|CTX_NUM|   TRN_LIST|\n",
            "+-------+-----------+\n",
            "|      1|    [1,3,4]|\n",
            "|      2|[2,5,6,7,9]|\n",
            "|      3|    [10,11]|\n",
            "|      4|        [8]|\n",
            "+-------+-----------+\n",
            "\n",
            "+---+-----------+-----------+-----------+-----------+-----------+-----------+-----------+\n",
            "|TRN|   Field-01|   Field-02|   Field-03|   Field-04|   Field-05|   Field-06|   Field-07|\n",
            "+---+-----------+-----------+-----------+-----------+-----------+-----------+-----------+\n",
            "|  1| Field-01-1| Field-02-1| Field-03-1| Field-04-1| Field-05-1| Field-06-1| Field-07-1|\n",
            "|  2| Field-01-2| Field-02-2| Field-03-2| Field-04-2| Field-05-2| Field-06-2| Field-07-2|\n",
            "|  3| Field-01-1| Field-02-1| Field-03-1| Field-04-1| Field-05-3| Field-06-3| Field-07-3|\n",
            "|  4| Field-01-1| Field-02-1| Field-03-1| Field-04-1| Field-05-4| Field-06-4| Field-07-4|\n",
            "|  5| Field-01-2| Field-02-2| Field-03-2| Field-04-5| Field-05-5| Field-06-5| Field-07-5|\n",
            "|  6| Field-01-6| Field-02-6| Field-03-6| Field-04-6| Field-05-6| Field-06-6| Field-07-6|\n",
            "|  7| Field-01-2| Field-02-2| Field-03-2| Field-04-7| Field-05-7| Field-06-7| Field-07-7|\n",
            "|  8| Field-01-8| Field-02-8| Field-03-8| Field-04-8| Field-05-8| Field-06-8| Field-07-8|\n",
            "|  9| Field-01-9| Field-02-9| Field-03-9| Field-04-9| Field-05-9| Field-06-9| Field-07-9|\n",
            "| 10|Field-01-11|Field-02-11|Field-03-11|Field-04-11|Field-05-11|Field-06-11|Field-07-10|\n",
            "| 11|Field-01-11|Field-02-11|Field-03-11|Field-04-11|Field-05-11|Field-06-11|Field-07-11|\n",
            "| 12|Field-01-12|Field-02-12|Field-03-12|Field-04-12|Field-05-12|Field-06-12|Field-07-12|\n",
            "+---+-----------+-----------+-----------+-----------+-----------+-----------+-----------+\n",
            "\n"
          ]
        }
      ]
    },
    {
      "cell_type": "code",
      "metadata": {
        "colab": {
          "base_uri": "https://localhost:8080/"
        },
        "id": "RPJNHrK98TJ7",
        "outputId": "2d2aa5b2-67d7-4d19-80f1-a05f0f413f1e"
      },
      "source": [
        "joinedRDD = df_dr.join(df_msgs, how=\"inner\").filter(df_dr.TRN_LIST.contains(df_msgs.TRN))\n",
        "joinedRDD.show()"
      ],
      "execution_count": null,
      "outputs": [
        {
          "output_type": "stream",
          "name": "stdout",
          "text": [
            "+-------+-----------+---+-----------+-----------+-----------+-----------+-----------+-----------+-----------+\n",
            "|CTX_NUM|   TRN_LIST|TRN|   Field-01|   Field-02|   Field-03|   Field-04|   Field-05|   Field-06|   Field-07|\n",
            "+-------+-----------+---+-----------+-----------+-----------+-----------+-----------+-----------+-----------+\n",
            "|      1|    [1,3,4]|  1| Field-01-1| Field-02-1| Field-03-1| Field-04-1| Field-05-1| Field-06-1| Field-07-1|\n",
            "|      3|    [10,11]|  1| Field-01-1| Field-02-1| Field-03-1| Field-04-1| Field-05-1| Field-06-1| Field-07-1|\n",
            "|      2|[2,5,6,7,9]|  2| Field-01-2| Field-02-2| Field-03-2| Field-04-2| Field-05-2| Field-06-2| Field-07-2|\n",
            "|      1|    [1,3,4]|  3| Field-01-1| Field-02-1| Field-03-1| Field-04-1| Field-05-3| Field-06-3| Field-07-3|\n",
            "|      1|    [1,3,4]|  4| Field-01-1| Field-02-1| Field-03-1| Field-04-1| Field-05-4| Field-06-4| Field-07-4|\n",
            "|      2|[2,5,6,7,9]|  5| Field-01-2| Field-02-2| Field-03-2| Field-04-5| Field-05-5| Field-06-5| Field-07-5|\n",
            "|      2|[2,5,6,7,9]|  6| Field-01-6| Field-02-6| Field-03-6| Field-04-6| Field-05-6| Field-06-6| Field-07-6|\n",
            "|      2|[2,5,6,7,9]|  7| Field-01-2| Field-02-2| Field-03-2| Field-04-7| Field-05-7| Field-06-7| Field-07-7|\n",
            "|      4|        [8]|  8| Field-01-8| Field-02-8| Field-03-8| Field-04-8| Field-05-8| Field-06-8| Field-07-8|\n",
            "|      2|[2,5,6,7,9]|  9| Field-01-9| Field-02-9| Field-03-9| Field-04-9| Field-05-9| Field-06-9| Field-07-9|\n",
            "|      3|    [10,11]| 10|Field-01-11|Field-02-11|Field-03-11|Field-04-11|Field-05-11|Field-06-11|Field-07-10|\n",
            "|      3|    [10,11]| 11|Field-01-11|Field-02-11|Field-03-11|Field-04-11|Field-05-11|Field-06-11|Field-07-11|\n",
            "+-------+-----------+---+-----------+-----------+-----------+-----------+-----------+-----------+-----------+\n",
            "\n"
          ]
        }
      ]
    },
    {
      "cell_type": "code",
      "metadata": {
        "colab": {
          "base_uri": "https://localhost:8080/"
        },
        "id": "4rY0YDfKPhtB",
        "outputId": "445eee24-4ecb-41cb-dc4b-d2bd06142ae8"
      },
      "source": [
        "result = joinedRDD.groupby(\"CTX_NUM\").agg(F.countDistinct(\"Field-01\",\"Field-02\"))\n",
        "result.show()"
      ],
      "execution_count": null,
      "outputs": [
        {
          "output_type": "stream",
          "name": "stdout",
          "text": [
            "+-------+-------------------------+\n",
            "|CTX_NUM|count(Field-01, Field-02)|\n",
            "+-------+-------------------------+\n",
            "|      1|                        1|\n",
            "|      3|                        2|\n",
            "|      4|                        1|\n",
            "|      2|                        3|\n",
            "+-------+-------------------------+\n",
            "\n"
          ]
        }
      ]
    },
    {
      "cell_type": "code",
      "metadata": {
        "id": "Lajhlc67V1Gg"
      },
      "source": [
        ""
      ],
      "execution_count": null,
      "outputs": []
    }
  ]
}