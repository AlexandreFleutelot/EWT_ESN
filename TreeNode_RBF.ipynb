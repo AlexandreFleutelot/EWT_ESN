{
  "nbformat": 4,
  "nbformat_minor": 0,
  "metadata": {
    "kernelspec": {
      "display_name": "Python 3",
      "language": "python",
      "name": "python3"
    },
    "language_info": {
      "codemirror_mode": {
        "name": "ipython",
        "version": 3
      },
      "file_extension": ".py",
      "mimetype": "text/x-python",
      "name": "python",
      "nbconvert_exporter": "python",
      "pygments_lexer": "ipython3",
      "version": "3.9.2"
    },
    "colab": {
      "name": "TreeNode_RBF.ipynb",
      "provenance": [],
      "collapsed_sections": [],
      "include_colab_link": true
    }
  },
  "cells": [
    {
      "cell_type": "markdown",
      "metadata": {
        "id": "view-in-github",
        "colab_type": "text"
      },
      "source": [
        "<a href=\"https://colab.research.google.com/github/AlexandreFleutelot/EWT_ESN/blob/main/TreeNode_RBF.ipynb\" target=\"_parent\"><img src=\"https://colab.research.google.com/assets/colab-badge.svg\" alt=\"Open In Colab\"/></a>"
      ]
    },
    {
      "cell_type": "code",
      "metadata": {
        "id": "xV86zgoN6f-3"
      },
      "source": [
        "import numpy as np"
      ],
      "execution_count": null,
      "outputs": []
    },
    {
      "cell_type": "code",
      "metadata": {
        "id": "x7tYhkDM6f_A"
      },
      "source": [
        "from collections import deque\n",
        "def print_tree(root, name=False):\n",
        "    res = []\n",
        "    q = deque([root])\n",
        "    while q:\n",
        "        row = []\n",
        "        for _ in range(len(q)):\n",
        "            node = q.popleft()\n",
        "            if not node:\n",
        "                row.append(\".\")\n",
        "                continue\n",
        "            if name:\n",
        "                row.append(node.name)  \n",
        "            else:\n",
        "                row.append(node.label)\n",
        "            q.append(node.left)\n",
        "            q.append(node.right)\n",
        "        res.append(row)\n",
        "    rows = len(res)\n",
        "    base = 2**(rows-1)\n",
        "    for r in range(rows):\n",
        "        for v in res[r]:\n",
        "            print(\".\" * (base), end = \"\",sep=\"\")\n",
        "            print(v, end = \"\",sep=\"\")\n",
        "            print(\".\" * (base - 1), end = \"\",sep=\"\")\n",
        "        print(\"|\")\n",
        "        base //= 2"
      ],
      "execution_count": null,
      "outputs": []
    },
    {
      "cell_type": "code",
      "metadata": {
        "id": "HMCtEhnO6f_A"
      },
      "source": [
        "class TreeNode2:\n",
        "\n",
        "    def __init__(self, name, dims=3):\n",
        "        self.name = name\n",
        "        self.center = np.random.uniform(-1,1,size=(dims))\n",
        "        self.radius =  1\n",
        "        self.dims = dims\n",
        "        self.left = None  #TreeNode\n",
        "        self.right = None  #TreeNode\n",
        "        self.label = None\n",
        "\n",
        "    def eval(self, inputs, indexes=None):\n",
        "\n",
        "      if indexes is None:\n",
        "        indexes = np.arange(len(inputs))\n",
        "      self.indexes=indexes\n",
        "\n",
        "      if self.right is None or self.left is None:\n",
        "          return [self]\n",
        "      else:\n",
        "          norm = np.linalg.norm(inputs-self.center,axis=1)\n",
        "          l_indexes = np.argwhere(norm < self.radius).flatten()\n",
        "          r_indexes = list(set(range(len(inputs))) - set(l_indexes))\n",
        "          r_ret = self.right.eval(inputs[r_indexes,:],indexes[r_indexes])\n",
        "          l_ret = self.left.eval(inputs[l_indexes,:],indexes[l_indexes])\n",
        "          return [self] + l_ret + r_ret"
      ],
      "execution_count": null,
      "outputs": []
    },
    {
      "cell_type": "code",
      "metadata": {
        "id": "eIU5LhL3XBj5"
      },
      "source": [
        "tree2 = TreeNode2(1)\n",
        "tree2.left = TreeNode2(2)\n",
        "tree2.left.left = TreeNode2(3)\n",
        "tree2.left.right = TreeNode2(4)\n",
        "tree2.right = TreeNode2(5)"
      ],
      "execution_count": null,
      "outputs": []
    },
    {
      "cell_type": "code",
      "metadata": {
        "colab": {
          "base_uri": "https://localhost:8080/"
        },
        "id": "Tcyy_XvOXIVZ",
        "outputId": "9eb7ef78-5cb1-41f0-a80d-0f2888f63102"
      },
      "source": [
        "inputs = np.random.uniform(-1,1,size=(20,3))\n",
        "nodes = tree2.eval(inputs)\n",
        "\n",
        "for node in nodes:\n",
        "    print(node.name, node.indexes)"
      ],
      "execution_count": null,
      "outputs": [
        {
          "output_type": "stream",
          "name": "stdout",
          "text": [
            "1 [ 0  1  2  3  4  5  6  7  8  9 10 11 12 13 14 15 16 17 18 19]\n",
            "2 [ 1  4  5  9 12 13 15 18]\n",
            "3 []\n",
            "4 [ 1  4  5  9 12 13 15 18]\n",
            "5 [ 0  2  3  6  7  8 10 11 14 16 17 19]\n"
          ]
        }
      ]
    },
    {
      "cell_type": "code",
      "metadata": {
        "id": "YT-K-137XllS"
      },
      "source": [
        "def labelize(nodes, targets):\n",
        "    for node in nodes:\n",
        "        if node.right is None:\n",
        "            if len(node.indexes):\n",
        "                values, counts = np.unique(targets[node.indexes], return_counts=True)\n",
        "                node.label = values[np.argmax(counts)]\n",
        "            else:\n",
        "                node.label = \"#\"\n",
        "        else:\n",
        "            node.label = \"*\""
      ],
      "execution_count": null,
      "outputs": []
    },
    {
      "cell_type": "code",
      "metadata": {
        "colab": {
          "base_uri": "https://localhost:8080/"
        },
        "id": "pHAilzjqRQE7",
        "outputId": "e040b93d-764b-41a8-b429-42f26619c869"
      },
      "source": [
        "targets = np.random.randint(0,3,(20))\n",
        "\n",
        "labelize(nodes,targets)\n",
        "print_tree(tree2)"
      ],
      "execution_count": null,
      "outputs": [
        {
          "output_type": "stream",
          "name": "stdout",
          "text": [
            "........*.......|\n",
            "....*.......0...|\n",
            "..#...2.........|\n",
            "........|\n"
          ]
        }
      ]
    },
    {
      "cell_type": "code",
      "metadata": {
        "id": "HVs6bJPQ9z7e"
      },
      "source": [
        "def score_MSE(nodes,targets):\n",
        "    tot = 0\n",
        "    for node in nodes:\n",
        "        if node.right is None:\n",
        "            if len(node.indexes):\n",
        "                tot += np.count_nonzero(targets[node.indexes] == node.label)\n",
        "    return tot/len(targets)"
      ],
      "execution_count": null,
      "outputs": []
    },
    {
      "cell_type": "code",
      "metadata": {
        "colab": {
          "base_uri": "https://localhost:8080/"
        },
        "id": "_eHM17WFB414",
        "outputId": "1953a9aa-d6d5-477f-97aa-e2254b9be98c"
      },
      "source": [
        "print(score_MSE(nodes,targets))"
      ],
      "execution_count": null,
      "outputs": [
        {
          "output_type": "stream",
          "name": "stdout",
          "text": [
            "0.5\n"
          ]
        }
      ]
    },
    {
      "cell_type": "code",
      "metadata": {
        "id": "lqEpU-GmB8Uv"
      },
      "source": [
        "def generate_tree(parent,depth):\n",
        "    if depth>0:\n",
        "      parent.right = TreeNode2(parent.name+\"r\")\n",
        "      generate_tree(parent.right,depth-1)\n",
        "      parent.left = TreeNode2(parent.name+\"l\")\n",
        "      generate_tree(parent.left,depth-1)\n"
      ],
      "execution_count": null,
      "outputs": []
    },
    {
      "cell_type": "code",
      "metadata": {
        "colab": {
          "base_uri": "https://localhost:8080/"
        },
        "id": "OuVyeTorRLfL",
        "outputId": "e2942c40-6c4c-4dd3-b196-d3426109f3f8"
      },
      "source": [
        "tree1 = TreeNode2(\"0\")\n",
        "generate_tree(tree1,3)\n",
        "nodes1=tree1.eval(inputs)\n",
        "labelize(nodes1,targets)\n",
        "print_tree(tree1)"
      ],
      "execution_count": null,
      "outputs": [
        {
          "output_type": "stream",
          "name": "stdout",
          "text": [
            "................*...............|\n",
            "........*...............*.......|\n",
            "....*.......*.......*.......*...|\n",
            "..#...#...2...0...2...0...1...2.|\n",
            "................................|\n"
          ]
        }
      ]
    },
    {
      "cell_type": "code",
      "metadata": {
        "colab": {
          "base_uri": "https://localhost:8080/"
        },
        "id": "ocyrc37HRhRj",
        "outputId": "3e9870a0-47d7-4665-c164-9a6f9351bf99"
      },
      "source": [
        "#cuting branch test\n",
        "from copy import deepcopy\n",
        "\n",
        "print(\"full tree:\")\n",
        "tree1 = TreeNode2(\"0\")\n",
        "generate_tree(tree1,3)\n",
        "nodes1=tree1.eval(inputs)\n",
        "labelize(nodes1,targets)\n",
        "print_tree(tree1)\n",
        "\n",
        "print(\"\\nremaining:\")\n",
        "branch = deepcopy(tree1.right)\n",
        "tree1.right.left = None\n",
        "tree1.right.right = None\n",
        "print_tree(tree1)\n",
        "\n",
        "print(\"\\nbranch:\")\n",
        "print_tree(branch)"
      ],
      "execution_count": null,
      "outputs": [
        {
          "output_type": "stream",
          "name": "stdout",
          "text": [
            "full tree:\n",
            "................*...............|\n",
            "........*...............*.......|\n",
            "....*.......*.......*.......*...|\n",
            "..1...1...#...1...#...2...2...2.|\n",
            "................................|\n",
            "\n",
            "remaining:\n",
            "................*...............|\n",
            "........*...............*.......|\n",
            "....*.......*...................|\n",
            "..1...1...#...1.|\n",
            "................|\n",
            "\n",
            "branch:\n",
            "........*.......|\n",
            "....*.......*...|\n",
            "..#...2...2...2.|\n",
            "................|\n"
          ]
        }
      ]
    },
    {
      "cell_type": "code",
      "metadata": {
        "id": "AldgpBLuSEQr"
      },
      "source": [
        "#crossover\n",
        "\n",
        "def crossover(tree1,tree2):\n",
        "    input = np.zeros((1,tree1.dims))\n",
        "    nodes1=tree1.eval(input)\n",
        "    nodes2=tree2.eval(input)\n",
        "\n",
        "    branch1 = np.random.choice(nodes1,1)[0]\n",
        "    print(branch1)\n",
        "    branch2 = np.random.choice(nodes2,1)[0]\n",
        "    \n",
        "    if np.random.randint(2):\n",
        "        if np.random.randint(2):\n",
        "            branch2.left,branch1.left = branch1.left,branch2.left\n",
        "        else:\n",
        "            branch2.right,branch1.right = branch1.right,branch2.right\n",
        "    else:\n",
        "        if np.random.randint(2):\n",
        "            branch2.left,branch1.right = branch1.right,branch2.left\n",
        "        else:\n",
        "            branch2.right,branch1.left = branch1.left,branch2.right\n",
        "   "
      ],
      "execution_count": null,
      "outputs": []
    },
    {
      "cell_type": "code",
      "metadata": {
        "colab": {
          "base_uri": "https://localhost:8080/"
        },
        "id": "H-BCn8m6Z_eu",
        "outputId": "23ff9c5a-a7d6-41b3-e3d1-8d9f6736e90c"
      },
      "source": [
        "tree1 = TreeNode2(\"0\")\n",
        "generate_tree(tree1,3)\n",
        "\n",
        "tree2 = TreeNode2(\"1\")\n",
        "generate_tree(tree2,3)\n",
        "\n",
        "print_tree(tree1, name=True)\n",
        "print_tree(tree2, name=True)\n",
        "\n",
        "crossover(tree1,tree2)\n",
        "print_tree(tree1, name=True)\n",
        "print_tree(tree2, name=True)"
      ],
      "execution_count": null,
      "outputs": [
        {
          "output_type": "stream",
          "name": "stdout",
          "text": [
            "................0...............|\n",
            "........0l...............0r.......|\n",
            "....0ll.......0lr.......0rl.......0rr...|\n",
            "..0lll...0llr...0lrl...0lrr...0rll...0rlr...0rrl...0rrr.|\n",
            "................................|\n",
            "................1...............|\n",
            "........1l...............1r.......|\n",
            "....1ll.......1lr.......1rl.......1rr...|\n",
            "..1lll...1llr...1lrl...1lrr...1rll...1rlr...1rrl...1rrr.|\n",
            "................................|\n",
            "<__main__.TreeNode2 object at 0x7f156d508910>\n",
            "................0...............|\n",
            "........0l...............0r.......|\n",
            "....0ll.......0lr.......1ll.......0rr...|\n",
            "..0lll...0llr...0lrl...0lrr...1lll...1llr...0rrl...0rrr.|\n",
            "................................|\n",
            "................1...............|\n",
            "........1l...............1r.......|\n",
            "....0rl.......1lr.......1rl.......1rr...|\n",
            "..0rll...0rlr...1lrl...1lrr...1rll...1rlr...1rrl...1rrr.|\n",
            "................................|\n"
          ]
        }
      ]
    },
    {
      "cell_type": "code",
      "metadata": {
        "id": "u9jnJcmEncBy"
      },
      "source": [
        ""
      ],
      "execution_count": null,
      "outputs": []
    }
  ]
}