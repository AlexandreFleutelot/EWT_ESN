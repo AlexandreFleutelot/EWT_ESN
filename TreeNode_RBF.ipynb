{
 "cells": [
  {
   "cell_type": "code",
   "execution_count": 1,
   "metadata": {
    "id": "xV86zgoN6f-3"
   },
   "outputs": [],
   "source": [
    "import numpy as np"
   ]
  },
  {
   "cell_type": "code",
   "execution_count": 2,
   "metadata": {
    "id": "HMCtEhnO6f_A"
   },
   "outputs": [],
   "source": [
    "class TreeNode2:\n",
    "\n",
    "    def __init__(self, name, dims=3):\n",
    "        self.name = name\n",
    "        self.center = np.random.uniform(-1,1,size=(dims))\n",
    "        self.radius =  1\n",
    "        self.dims = dims\n",
    "        self.left = None  #TreeNode\n",
    "        self.right = None  #TreeNode\n",
    "        self.label = None\n",
    "\n",
    "    def run(self, inputs, indexes=None):\n",
    "      if indexes is None: indexes = np.arange(len(inputs))\n",
    "      self.indexes=indexes\n",
    "\n",
    "      if self.right is None or self.left is None:\n",
    "          return [self]\n",
    "      else:\n",
    "          norm = np.linalg.norm(inputs-self.center,axis=1)\n",
    "          l_indexes = np.argwhere(norm < self.radius).flatten()\n",
    "          r_indexes = list(set(range(len(inputs))) - set(l_indexes))\n",
    "          r_ret = self.right.run(inputs[r_indexes,:],indexes[r_indexes])\n",
    "          l_ret = self.left.run(inputs[l_indexes,:],indexes[l_indexes])\n",
    "          return [self] + l_ret + r_ret\n",
    "    \n",
    "    def clone(self) :\n",
    "        tree = TreeNode2(self.name)\n",
    "        if self.right is not None : tree.right = self.right.clone()\n",
    "        if self.left is not None : tree.left = self.left.clone()\n",
    "        return tree\n",
    "    \n",
    "    def cut(self):\n",
    "        self.right=None\n",
    "        self.left=None\n",
    "        \n",
    "    def grow(self,depth):\n",
    "        if depth>0:\n",
    "          self.right = TreeNode2(str(self.name)+\"R\")\n",
    "          self.right.grow(depth-1)\n",
    "          self.left = TreeNode2(str(self.name)+\"L\")\n",
    "          self.left.grow(depth-1)\n",
    "    \n",
    "    def show(self, space=0, tab_size=6):\n",
    "        space += tab_size\n",
    "        if self.right is not None: self.right.show(space, tab_size)\n",
    "        s = str(self.name) + \"(\" + str(self.label) + \")\"\n",
    "        print(\" \"*(space-tab_size), s)\n",
    "        if self.left is not None: self.left.show(space, tab_size)  \n",
    "    \n",
    "    def to_list(self):\n",
    "        if self.right is None or self.left is None:\n",
    "            return [self]\n",
    "        else:\n",
    "            return [self] + self.left.to_list() + self.right.to_list()\n",
    "    \n",
    "    def depth(self):\n",
    "        if self.right is None or self.left is None:\n",
    "            return 1\n",
    "        else:\n",
    "            return 1 + max(self.right.depth(),self.left.depth())\n",
    "    "
   ]
  },
  {
   "cell_type": "code",
   "execution_count": 3,
   "metadata": {},
   "outputs": [],
   "source": [
    "# Testing Class methods"
   ]
  },
  {
   "cell_type": "code",
   "execution_count": 4,
   "metadata": {
    "colab": {
     "base_uri": "https://localhost:8080/"
    },
    "id": "ocyrc37HRhRj",
    "outputId": "3e9870a0-47d7-4665-c164-9a6f9351bf99"
   },
   "outputs": [
    {
     "name": "stdout",
     "output_type": "stream",
     "text": [
      "             -RR(None)\n",
      "       -R(None)\n",
      "             -RL(None)\n",
      " -(None)\n",
      "             -LR(None)\n",
      "       -L(None)\n",
      "             -LL(None)\n"
     ]
    }
   ],
   "source": [
    "tree1 = TreeNode2(\"-\") #init\n",
    "tree1.grow(2) #grow\n",
    "tree1.show() #show"
   ]
  },
  {
   "cell_type": "code",
   "execution_count": 5,
   "metadata": {},
   "outputs": [
    {
     "name": "stdout",
     "output_type": "stream",
     "text": [
      "       -RR(None)\n",
      " -R(None)\n",
      "       -RL(None)\n"
     ]
    }
   ],
   "source": [
    "branch = tree1.right.clone() #clone\n",
    "branch.show()"
   ]
  },
  {
   "cell_type": "code",
   "execution_count": 6,
   "metadata": {},
   "outputs": [
    {
     "name": "stdout",
     "output_type": "stream",
     "text": [
      "       -R(None)\n",
      " -(None)\n",
      "             -LR(None)\n",
      "       -L(None)\n",
      "             -LL(None)\n"
     ]
    }
   ],
   "source": [
    "tree1.right.cut() #cut\n",
    "tree1.show()"
   ]
  },
  {
   "cell_type": "code",
   "execution_count": 7,
   "metadata": {},
   "outputs": [
    {
     "name": "stdout",
     "output_type": "stream",
     "text": [
      "[<__main__.TreeNode2 object at 0x0000023B4DB47748>, <__main__.TreeNode2 object at 0x0000023B4DB47908>, <__main__.TreeNode2 object at 0x0000023B4DB479E8>, <__main__.TreeNode2 object at 0x0000023B4DB478D0>, <__main__.TreeNode2 object at 0x0000023B4DB47710>]\n"
     ]
    }
   ],
   "source": [
    "nodes = tree1.to_list() #to_list\n",
    "print(nodes)"
   ]
  },
  {
   "cell_type": "code",
   "execution_count": 8,
   "metadata": {},
   "outputs": [
    {
     "name": "stdout",
     "output_type": "stream",
     "text": [
      "- [ 0  1  2  3  4  5  6  7  8  9 10 11 12 13 14 15 16 17 18 19]\n",
      "-L [ 5 10 12 14]\n",
      "-LL []\n",
      "-LR [ 5 10 12 14]\n",
      "-R [ 0  1  2  3  4  6  7  8  9 11 13 15 16 17 18 19]\n"
     ]
    }
   ],
   "source": [
    "inputs = np.random.uniform(-1,1,size=(20,3))\n",
    "nodes = tree1.run(inputs) #run\n",
    "\n",
    "for node in nodes:\n",
    "    print(node.name, node.indexes)"
   ]
  },
  {
   "cell_type": "code",
   "execution_count": 9,
   "metadata": {},
   "outputs": [],
   "source": [
    "#outside methods"
   ]
  },
  {
   "cell_type": "code",
   "execution_count": 10,
   "metadata": {
    "id": "u9jnJcmEncBy"
   },
   "outputs": [],
   "source": [
    "def crossover(tree1,tree2):\n",
    "    new_tree = tree1.clone()\n",
    "    rnd_node_tree1 = np.random.choice(new_tree.to_list(),1)[0]\n",
    "    subs_tree2 = np.random.choice(tree2.to_list(),2)\n",
    "    rnd_node_tree1.right = subs_tree2[0]\n",
    "    rnd_node_tree1.left = subs_tree2[1]    \n",
    "    return new_tree     "
   ]
  },
  {
   "cell_type": "code",
   "execution_count": 11,
   "metadata": {},
   "outputs": [
    {
     "name": "stdout",
     "output_type": "stream",
     "text": [
      "             1RR(None)\n",
      "       1R(None)\n",
      "             1RL(None)\n",
      " 1(None)\n",
      "                         2LR(None)\n",
      "                   2L(None)\n",
      "                         2LL(None)\n",
      "             1LR(None)\n",
      "                               2RR(None)\n",
      "                         2R(None)\n",
      "                               2RL(None)\n",
      "                   2(None)\n",
      "                               2LR(None)\n",
      "                         2L(None)\n",
      "                               2LL(None)\n",
      "       1L(None)\n",
      "             1LL(None)\n"
     ]
    }
   ],
   "source": [
    "tree1 = TreeNode2(\"1\")\n",
    "tree1.grow(2)\n",
    "tree2 = TreeNode2(\"2\")\n",
    "tree2.grow(2)\n",
    "\n",
    "tree3 = crossover(tree1,tree2)\n",
    "tree3.show()"
   ]
  },
  {
   "cell_type": "code",
   "execution_count": 12,
   "metadata": {},
   "outputs": [],
   "source": [
    "def mutate(tree, m_rate=0.1):\n",
    "    new_tree = tree.clone()\n",
    "    for node in new_tree.to_list():\n",
    "        if np.random.rand(1) < m_rate :\n",
    "            node.center = np.random.uniform(-1,1,size=(node.dims))\n",
    "            node.radius =  np.random.rand(1)\n",
    "    return new_tree    "
   ]
  },
  {
   "cell_type": "code",
   "execution_count": 14,
   "metadata": {},
   "outputs": [
    {
     "name": "stdout",
     "output_type": "stream",
     "text": [
      "1 [ 0  1  2  3  4  5  6  7  8  9 10 11 12 13 14 15 16 17 18 19]\n",
      "1L [ 0  9 12 13 14 15 16]\n",
      "1LL []\n",
      "1LR [ 0  9 12 13 14 15 16]\n",
      "2 [13 14]\n",
      "2L []\n",
      "2LL []\n",
      "2LR []\n",
      "2R [13 14]\n",
      "2RL []\n",
      "2RR [13 14]\n",
      "2L []\n",
      "2LL []\n",
      "2LR []\n",
      "1R [ 1  2  3  4  5  6  7  8 10 11 17 18 19]\n",
      "1RL [ 1  7 11]\n",
      "1RR [ 2  3  4  5  6  8 10 17 18 19]\n",
      "1 [ 0  1  2  3  4  5  6  7  8  9 10 11 12 13 14 15 16 17 18 19]\n",
      "1L [ 1  7 11]\n",
      "1LL [ 1 11]\n",
      "1LR [7]\n",
      "2 []\n",
      "2L []\n",
      "2LL []\n",
      "2LR []\n",
      "2R []\n",
      "2RL []\n",
      "2RR []\n",
      "2L [7]\n",
      "2LL []\n",
      "2LR [7]\n",
      "1R [ 0  2  3  4  5  6  8  9 10 12 13 14 15 16 17 18 19]\n",
      "1RL [ 3 12 13 14 19]\n",
      "1RR [ 0  2  4  5  6  8  9 10 15 16 17 18]\n"
     ]
    }
   ],
   "source": [
    "nodes = tree3.run(inputs) #run\n",
    "\n",
    "for node in nodes:\n",
    "    print(node.name, node.indexes)\n",
    "    \n",
    "tree4 = mutate(tree3)\n",
    "\n",
    "nodes = tree4.run(inputs) #run\n",
    "\n",
    "for node in nodes:\n",
    "    print(node.name, node.indexes)"
   ]
  },
  {
   "cell_type": "code",
   "execution_count": null,
   "metadata": {},
   "outputs": [],
   "source": []
  }
 ],
 "metadata": {
  "colab": {
   "collapsed_sections": [],
   "include_colab_link": true,
   "name": "TreeNode_RBF.ipynb",
   "provenance": []
  },
  "kernelspec": {
   "display_name": "Python 3 (ipykernel)",
   "language": "python",
   "name": "python3"
  },
  "language_info": {
   "codemirror_mode": {
    "name": "ipython",
    "version": 3
   },
   "file_extension": ".py",
   "mimetype": "text/x-python",
   "name": "python",
   "nbconvert_exporter": "python",
   "pygments_lexer": "ipython3",
   "version": "3.6.5"
  }
 },
 "nbformat": 4,
 "nbformat_minor": 1
}
