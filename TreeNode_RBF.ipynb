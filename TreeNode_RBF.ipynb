{
 "cells": [
  {
   "cell_type": "code",
   "execution_count": 1,
   "metadata": {
    "id": "xV86zgoN6f-3"
   },
   "outputs": [],
   "source": [
    "import numpy as np"
   ]
  },
  {
   "cell_type": "code",
   "execution_count": 2,
   "metadata": {
    "id": "HMCtEhnO6f_A"
   },
   "outputs": [],
   "source": [
    "class TreeNode2:\n",
    "\n",
    "    def __init__(self, name, dims=3):\n",
    "        self.name = name\n",
    "        self.center = np.random.uniform(-1,1,size=(dims))\n",
    "        self.radius =  1\n",
    "        self.dims = dims\n",
    "        self.left = None  #TreeNode\n",
    "        self.right = None  #TreeNode\n",
    "        self.label = None\n",
    "    \n",
    "    def run(self,inputs):\n",
    "        self.indexes=np.arange(len(inputs))\n",
    "        outs = self._run(inputs,self.indexes)\n",
    "        return [x for _,x in sorted(outs)]\n",
    "\n",
    "    def _run(self, inputs, indexes):\n",
    "        self.indexes = indexes\n",
    "        if self.right is None or self.left is None:\n",
    "              return [(i,self.label) for i in indexes]\n",
    "        else:\n",
    "              norm = np.linalg.norm(inputs-self.center,axis=1)\n",
    "              l_indexes = np.argwhere(norm < self.radius).flatten()\n",
    "              r_indexes = list(set(range(len(inputs))) - set(l_indexes))\n",
    "              r_ret = self.right._run(inputs[r_indexes,:],indexes[r_indexes])\n",
    "              l_ret = self.left._run(inputs[l_indexes,:],indexes[l_indexes])\n",
    "              return l_ret + r_ret\n",
    "    \n",
    "    def clone(self) :\n",
    "        tree = TreeNode2(self.name)\n",
    "        if self.right is not None : tree.right = self.right.clone()\n",
    "        if self.left is not None : tree.left = self.left.clone()\n",
    "        return tree\n",
    "    \n",
    "    def cut(self):\n",
    "        self.right=None\n",
    "        self.left=None\n",
    "        \n",
    "    def grow(self,depth):\n",
    "        if depth>0:\n",
    "          self.right = TreeNode2(str(self.name)+\"R\")\n",
    "          self.right.grow(depth-1)\n",
    "          self.left = TreeNode2(str(self.name)+\"L\")\n",
    "          self.left.grow(depth-1)\n",
    "    \n",
    "    def show(self, space=0, tab_size=6):\n",
    "        space += tab_size\n",
    "        if self.right is not None: self.right.show(space, tab_size)\n",
    "        s = str(self.name) + \"(\" + str(self.label) + \")\"\n",
    "        print(\" \"*(space-tab_size), s)\n",
    "        if self.left is not None: self.left.show(space, tab_size)  \n",
    "    \n",
    "    def to_list(self):\n",
    "        if self.right is None or self.left is None:\n",
    "            return [self]\n",
    "        else:\n",
    "            return [self] + self.left.to_list() + self.right.to_list()\n",
    "    \n",
    "    def depth(self):\n",
    "        if self.right is None or self.left is None:\n",
    "            return 1\n",
    "        else:\n",
    "            return 1 + max(self.right.depth(),self.left.depth())\n",
    "    "
   ]
  },
  {
   "cell_type": "code",
   "execution_count": 3,
   "metadata": {},
   "outputs": [],
   "source": [
    "# Testing Class methods"
   ]
  },
  {
   "cell_type": "code",
   "execution_count": 4,
   "metadata": {
    "colab": {
     "base_uri": "https://localhost:8080/"
    },
    "id": "ocyrc37HRhRj",
    "outputId": "3e9870a0-47d7-4665-c164-9a6f9351bf99"
   },
   "outputs": [
    {
     "name": "stdout",
     "output_type": "stream",
     "text": [
      "             -RR(None)\n",
      "       -R(None)\n",
      "             -RL(None)\n",
      " -(None)\n",
      "             -LR(None)\n",
      "       -L(None)\n",
      "             -LL(None)\n"
     ]
    }
   ],
   "source": [
    "tree1 = TreeNode2(\"-\") #init\n",
    "tree1.grow(2) #grow\n",
    "tree1.show() #show"
   ]
  },
  {
   "cell_type": "code",
   "execution_count": 5,
   "metadata": {},
   "outputs": [
    {
     "name": "stdout",
     "output_type": "stream",
     "text": [
      "       -RR(None)\n",
      " -R(None)\n",
      "       -RL(None)\n"
     ]
    }
   ],
   "source": [
    "branch = tree1.right.clone() #clone\n",
    "branch.show()"
   ]
  },
  {
   "cell_type": "code",
   "execution_count": 6,
   "metadata": {},
   "outputs": [
    {
     "name": "stdout",
     "output_type": "stream",
     "text": [
      "       -R(None)\n",
      " -(None)\n",
      "             -LR(None)\n",
      "       -L(None)\n",
      "             -LL(None)\n"
     ]
    }
   ],
   "source": [
    "tree1.right.cut() #cut\n",
    "tree1.show()"
   ]
  },
  {
   "cell_type": "code",
   "execution_count": 7,
   "metadata": {},
   "outputs": [
    {
     "name": "stdout",
     "output_type": "stream",
     "text": [
      "[<__main__.TreeNode2 object at 0x000001E3F9B48780>, <__main__.TreeNode2 object at 0x000001E3F9B48908>, <__main__.TreeNode2 object at 0x000001E3F9B480B8>, <__main__.TreeNode2 object at 0x000001E3F9B48278>, <__main__.TreeNode2 object at 0x000001E3F9B48080>]\n"
     ]
    }
   ],
   "source": [
    "nodes = tree1.to_list() #to_list\n",
    "print(nodes)"
   ]
  },
  {
   "cell_type": "code",
   "execution_count": 8,
   "metadata": {},
   "outputs": [
    {
     "name": "stdout",
     "output_type": "stream",
     "text": [
      "[None, None, None, None, None, None, None, None, None, None, None, None, None, None, None, None, None, None, None, None] \n",
      "\n",
      "- [ 0  1  2  3  4  5  6  7  8  9 10 11 12 13 14 15 16 17 18 19]\n",
      "-L [ 1  6 11 13 16]\n",
      "-LL [1 6]\n",
      "-LR [11 13 16]\n",
      "-R [ 0  2  3  4  5  7  8  9 10 12 14 15 17 18 19]\n"
     ]
    }
   ],
   "source": [
    "inputs = np.random.uniform(-1,1,size=(20,3))\n",
    "out = tree1.run(inputs) #run\n",
    "print (out,'\\n')\n",
    "\n",
    "for node in tree1.to_list():\n",
    "    print(node.name, node.indexes)"
   ]
  },
  {
   "cell_type": "code",
   "execution_count": 9,
   "metadata": {},
   "outputs": [],
   "source": [
    "#outside methods"
   ]
  },
  {
   "cell_type": "code",
   "execution_count": 10,
   "metadata": {
    "id": "u9jnJcmEncBy"
   },
   "outputs": [],
   "source": [
    "def crossover(tree1,tree2):\n",
    "    new_tree = tree1.clone()\n",
    "    rnd_node_tree1 = np.random.choice(new_tree.to_list(),1)[0]\n",
    "    subs_tree2 = np.random.choice(tree2.to_list(),2)\n",
    "    rnd_node_tree1.right = subs_tree2[0].clone()\n",
    "    rnd_node_tree1.left = subs_tree2[1].clone()    \n",
    "    return new_tree     "
   ]
  },
  {
   "cell_type": "code",
   "execution_count": 11,
   "metadata": {},
   "outputs": [
    {
     "name": "stdout",
     "output_type": "stream",
     "text": [
      "                         2RR(None)\n",
      "                   2R(None)\n",
      "                         2RL(None)\n",
      "             1RR(None)\n",
      "                   2LL(None)\n",
      "       1R(None)\n",
      "             1RL(None)\n",
      " 1(None)\n",
      "             1LR(None)\n",
      "       1L(None)\n",
      "             1LL(None)\n"
     ]
    }
   ],
   "source": [
    "tree1 = TreeNode2(\"1\")\n",
    "tree1.grow(2)\n",
    "tree2 = TreeNode2(\"2\")\n",
    "tree2.grow(2)\n",
    "\n",
    "tree3 = crossover(tree1,tree2)\n",
    "tree3.show()"
   ]
  },
  {
   "cell_type": "code",
   "execution_count": 12,
   "metadata": {},
   "outputs": [],
   "source": [
    "def mutate(tree, m_rate=0.1):\n",
    "    new_tree = tree.clone()\n",
    "    for node in new_tree.to_list():\n",
    "        if np.random.rand(1) < m_rate :\n",
    "            node.center = np.random.uniform(-1,1,size=(node.dims))\n",
    "            node.radius =  np.random.rand(1)\n",
    "    return new_tree    "
   ]
  },
  {
   "cell_type": "code",
   "execution_count": 13,
   "metadata": {},
   "outputs": [
    {
     "name": "stdout",
     "output_type": "stream",
     "text": [
      "1 [ 0  1  2  3  4  5  6  7  8  9 10 11 12 13 14 15 16 17 18 19]\n",
      "1L [4]\n",
      "1LL []\n",
      "1LR [4]\n",
      "1R [ 0  1  2  3  5  6  7  8  9 10 11 12 13 14 15 16 17 18 19]\n",
      "1RL [ 0  9 10 13 16 17 18]\n",
      "1RR [ 1  2  3  5  6  7  8 11 12 14 15 19]\n",
      "2LL [ 1  6 11]\n",
      "2R [ 2  3  5  7  8 12 14 15 19]\n",
      "2RL [15]\n",
      "2RR [ 2  3  5  7  8 12 14 19]\n",
      "1 [ 0  1  2  3  4  5  6  7  8  9 10 11 12 13 14 15 16 17 18 19]\n",
      "1L [ 0  2 11 12 13 15 16 19]\n",
      "1LL []\n",
      "1LR [ 0  2 11 12 13 15 16 19]\n",
      "1R [ 1  3  4  5  6  7  8  9 10 14 17 18]\n",
      "1RL [ 3  5  8  9 14 18]\n",
      "1RR [ 1  4  6  7 10 17]\n",
      "2LL []\n",
      "2R [ 1  4  6  7 10 17]\n",
      "2RL [ 1  6 10]\n",
      "2RR [ 4  7 17]\n"
     ]
    }
   ],
   "source": [
    "outs = tree3.run(inputs) #run\n",
    "\n",
    "for node in tree3.to_list():\n",
    "    print(node.name, node.indexes)\n",
    "    \n",
    "tree4 = mutate(tree3)\n",
    "\n",
    "outs = tree4.run(inputs) #run\n",
    "\n",
    "for node in tree4.to_list():\n",
    "    print(node.name, node.indexes)"
   ]
  },
  {
   "cell_type": "code",
   "execution_count": 14,
   "metadata": {},
   "outputs": [],
   "source": [
    "def labelize(tree, inputs, targets):\n",
    "    tree.run(inputs)\n",
    "    for node in tree.to_list():\n",
    "        if len(node.indexes):\n",
    "            values, counts = np.unique(targets[node.indexes],return_counts=True)\n",
    "            node.label = values[np.argmax(counts)]"
   ]
  },
  {
   "cell_type": "code",
   "execution_count": 15,
   "metadata": {},
   "outputs": [
    {
     "name": "stdout",
     "output_type": "stream",
     "text": [
      "                         2RR(0)\n",
      "                   2R(0)\n",
      "                         2RL(None)\n",
      "             1RR(3)\n",
      "                   2LL(3)\n",
      "       1R(0)\n",
      "             1RL(0)\n",
      " 1(0)\n",
      "             1LR(1)\n",
      "       1L(1)\n",
      "             1LL(2)\n",
      "1 0 [ 0  1  2  3  4  5  6  7  8  9 10 11 12 13 14 15 16 17 18 19]\n",
      "1L 1 [ 2  9 10 11 13]\n",
      "1LL 2 [ 9 10]\n",
      "1LR 1 [ 2 11 13]\n",
      "1R 0 [ 0  1  3  4  5  6  7  8 12 14 15 16 17 18 19]\n",
      "1RL 0 [ 1 19]\n",
      "1RR 3 [ 0  3  4  5  6  7  8 12 14 15 16 17 18]\n",
      "2LL 3 [ 3  5  6 12 16]\n",
      "2R 0 [ 0  4  7  8 14 15 17 18]\n",
      "2RL None []\n",
      "2RR 0 [ 0  4  7  8 14 15 17 18]\n"
     ]
    }
   ],
   "source": [
    "inputs = np.random.uniform(-1,1,size=(20,3))\n",
    "targets = np.random.randint(4,size=(20))\n",
    "\n",
    "tree3.run(inputs)\n",
    "labelize(tree3,inputs,targets)\n",
    "tree3.show()\n",
    "\n",
    "for node in tree3.to_list():\n",
    "    print(node.name,node.label, node.indexes)"
   ]
  },
  {
   "cell_type": "code",
   "execution_count": 16,
   "metadata": {},
   "outputs": [
    {
     "name": "stdout",
     "output_type": "stream",
     "text": [
      "score= 0.5\n"
     ]
    }
   ],
   "source": [
    "print(\"score=\",sum(tree3.run(inputs)==targets)/len(targets))"
   ]
  },
  {
   "cell_type": "code",
   "execution_count": null,
   "metadata": {},
   "outputs": [],
   "source": []
  },
  {
   "cell_type": "code",
   "execution_count": null,
   "metadata": {},
   "outputs": [],
   "source": []
  }
 ],
 "metadata": {
  "colab": {
   "collapsed_sections": [],
   "include_colab_link": true,
   "name": "TreeNode_RBF.ipynb",
   "provenance": []
  },
  "kernelspec": {
   "display_name": "Python 3 (ipykernel)",
   "language": "python",
   "name": "python3"
  },
  "language_info": {
   "codemirror_mode": {
    "name": "ipython",
    "version": 3
   },
   "file_extension": ".py",
   "mimetype": "text/x-python",
   "name": "python",
   "nbconvert_exporter": "python",
   "pygments_lexer": "ipython3",
   "version": "3.6.5"
  }
 },
 "nbformat": 4,
 "nbformat_minor": 1
}
